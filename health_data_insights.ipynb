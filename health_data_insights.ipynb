{
  "nbformat": 4,
  "nbformat_minor": 0,
  "metadata": {
    "colab": {
      "provenance": []
    },
    "kernelspec": {
      "name": "python3",
      "display_name": "Python 3"
    },
    "language_info": {
      "name": "python"
    }
  },
  "cells": [
    {
      "cell_type": "markdown",
      "source": [
        "# Health Data Simulation\n",
        "We simulate realistic health data for 100 users with features like steps, heart rate, sleep quality, workout type, and workout duration.\n",
        "\n",
        "A derived `performance` metric is calculated based on a weighted correlation with sleep quality, steps, and workout duration, adding a small amount of random noise for variability.\n"
      ],
      "metadata": {
        "id": "wPHAF42AjXwO"
      }
    },
    {
      "cell_type": "markdown",
      "source": [
        "A custom function calculates the correlation between performance and three key metrics:\n",
        "- Sleep Quality: Recovery's role in performance.\n",
        "- Steps: The impact of daily physical activity.\n",
        "- Workout Duration: The influence of workout intensity and duration."
      ],
      "metadata": {
        "id": "CNnTlEpxj1JV"
      }
    },
    {
      "cell_type": "code",
      "execution_count": 1,
      "metadata": {
        "id": "jWwy2E-IEpRI"
      },
      "outputs": [],
      "source": [
        "import numpy as np\n",
        "import random\n",
        "\n",
        "# Step 1: Simulating Health Data\n",
        "np.random.seed(42)  # For reproducibility\n",
        "\n",
        "# Number of users\n",
        "num_users = 100\n",
        "\n",
        "# Generate data\n",
        "data = {\n",
        "    \"user_id\": [f\"user_{i+1}\" for i in range(num_users)],\n",
        "    \"steps\": np.random.randint(1000, 20000, size=num_users),\n",
        "    \"heart_rate\": np.random.randint(50, 100, size=num_users),\n",
        "    \"sleep_quality\": np.random.rand(num_users),  # Between 0 and 1\n",
        "    \"workout_type\": np.random.choice([\"Cardio\", \"Strength\", \"None\"], size=num_users, p=[0.4, 0.4, 0.2]),\n",
        "    \"workout_duration\": np.random.randint(0, 120, size=num_users)  # Workout duration in minutes\n",
        "}\n",
        "\n",
        "# Derive performance score based on sleep quality, steps, and workout (simulate correlation)\n",
        "data[\"performance\"] = (\n",
        "    0.5 * data[\"sleep_quality\"] +\n",
        "    0.3 * (data[\"steps\"] / 20000) +\n",
        "    0.2 * (data[\"workout_duration\"] / 120) +\n",
        "    np.random.normal(0, 0.05, num_users)\n",
        ")\n"
      ]
    },
    {
      "cell_type": "markdown",
      "source": [
        "# Trends Analysis\n",
        "**Correlation Analysis:**\n",
        "We calculate correlations between sleep quality, steps, workout duration, and performance to quantify their relationships. This identifies the strength and direction of how these factors influence user performance, providing a foundation for actionable insights.\n",
        "\n",
        "**Summary Statistics:**\n",
        "Metrics like average steps, sleep quality, and workout duration give a high-level overview of user behavior and health trends, helping us identify baseline patterns across the dataset.\n",
        "\n",
        "**User Grouping:**\n",
        "Users are segmented into categories based on activity levels (steps) and sleep quality, enabling us to identify at-risk groups (e.g., sedentary users with poor sleep) and tailor recommendations accordingly.\n",
        "\n",
        "**Workout Impact Analysis:**\n",
        "Performance is analyzed by workout type (Cardio, Strength, None), revealing which activity type contributes most to overall performance. This allows us to highlight the benefits of structured exercise.\n",
        "\n",
        "\n",
        "---\n",
        "\n",
        "\n",
        "\n",
        "**Why This Analysis is Important?**\n",
        "This structured approach combines individual-level insights with population-wide trends. By correlating key metrics, segmenting users, and evaluating workout impacts, we ensure data-driven recommendations are both actionable and personalized. It also showcases a holistic understanding of user health dynamics, adding credibility to the analysis."
      ],
      "metadata": {
        "id": "iJXZTXRRkQ4h"
      }
    },
    {
      "cell_type": "code",
      "source": [
        "# Step 2: Analyze Trends\n",
        "def compute_correlation(x, y):\n",
        "    \"\"\"Manually compute correlation between two variables.\"\"\"\n",
        "    x_mean, y_mean = np.mean(x), np.mean(y)\n",
        "    numerator = np.sum((x - x_mean) * (y - y_mean))\n",
        "    denominator = np.sqrt(np.sum((x - x_mean)**2) * np.sum((y - y_mean)**2))\n",
        "    return numerator / denominator\n",
        "\n",
        "# Correlation Analysis\n",
        "correlation_sleep_performance = compute_correlation(data[\"sleep_quality\"], data[\"performance\"])\n",
        "correlation_steps_performance = compute_correlation(data[\"steps\"], data[\"performance\"])\n",
        "correlation_workout_performance = compute_correlation(data[\"workout_duration\"], data[\"performance\"])\n",
        "\n",
        "# Detailed Analysis\n",
        "def analyze_trends(data):\n",
        "    \"\"\"Analyze and summarize key trends in the dataset.\"\"\"\n",
        "    total_users = len(data[\"user_id\"])\n",
        "    avg_steps = np.mean(data[\"steps\"])\n",
        "    avg_sleep_quality = np.mean(data[\"sleep_quality\"])\n",
        "    avg_workout_duration = np.mean(data[\"workout_duration\"])\n",
        "\n",
        "    print(f\"Total Users: {total_users}\")\n",
        "    print(f\"Average Steps: {avg_steps:.2f}\")\n",
        "    print(f\"Average Sleep Quality: {avg_sleep_quality:.2f}\")\n",
        "    print(f\"Average Workout Duration: {avg_workout_duration:.2f} minutes\")\n",
        "\n",
        "    print(\"\\nCorrelations:\")\n",
        "    print(f\"Sleep Quality vs. Performance: {correlation_sleep_performance:.2f}\")\n",
        "    print(f\"Steps vs. Performance: {correlation_steps_performance:.2f}\")\n",
        "    print(f\"Workout Duration vs. Performance: {correlation_workout_performance:.2f}\")\n",
        "\n",
        "    # Group users based on activity levels and sleep quality\n",
        "    groups = {\"Active and Well Rested\": 0, \"Active but Poor Sleep\": 0,\n",
        "              \"Sedentary and Poor Sleep\": 0, \"Sedentary but Well Rested\": 0}\n",
        "\n",
        "    for i in range(total_users):\n",
        "        steps = data[\"steps\"][i]\n",
        "        sleep = data[\"sleep_quality\"][i]\n",
        "\n",
        "        if steps > 8000 and sleep > 0.6:\n",
        "            groups[\"Active and Well Rested\"] += 1\n",
        "        elif steps > 8000 and sleep <= 0.6:\n",
        "            groups[\"Active but Poor Sleep\"] += 1\n",
        "        elif steps <= 8000 and sleep <= 0.6:\n",
        "            groups[\"Sedentary and Poor Sleep\"] += 1\n",
        "        else:\n",
        "            groups[\"Sedentary but Well Rested\"] += 1\n",
        "\n",
        "    print(\"\\nUser Groups:\")\n",
        "    for group, count in groups.items():\n",
        "        print(f\"{group}: {count} users\")\n",
        "\n",
        " # Analyze the impact of workout type on performance\n",
        "    performance_by_workout = {\"Cardio\": [], \"Strength\": [], \"None\": []}\n",
        "\n",
        "    for i in range(total_users):\n",
        "        workout = data[\"workout_type\"][i]\n",
        "        performance_by_workout[workout].append(data[\"performance\"][i])\n",
        "\n",
        "    avg_performance = {k: np.mean(v) if v else 0 for k, v in performance_by_workout.items()}\n",
        "\n",
        "    print(\"\\nAverage Performance by Workout Type:\")\n",
        "    for workout, avg_perf in avg_performance.items():\n",
        "        print(f\"{workout}: {avg_perf:.2f}\")\n",
        "\n",
        "analyze_trends(data)"
      ],
      "metadata": {
        "colab": {
          "base_uri": "https://localhost:8080/"
        },
        "id": "vIH-eLmFkJrD",
        "outputId": "c2e304dd-09b5-40d9-c789-5d05a5a456c3"
      },
      "execution_count": 2,
      "outputs": [
        {
          "output_type": "stream",
          "name": "stdout",
          "text": [
            "Total Users: 100\n",
            "Average Steps: 9637.30\n",
            "Average Sleep Quality: 0.51\n",
            "Average Workout Duration: 61.88 minutes\n",
            "\n",
            "Correlations:\n",
            "Sleep Quality vs. Performance: 0.83\n",
            "Steps vs. Performance: 0.41\n",
            "Workout Duration vs. Performance: 0.39\n",
            "\n",
            "User Groups:\n",
            "Active and Well Rested: 27 users\n",
            "Active but Poor Sleep: 31 users\n",
            "Sedentary and Poor Sleep: 23 users\n",
            "Sedentary but Well Rested: 19 users\n",
            "\n",
            "Average Performance by Workout Type:\n",
            "Cardio: 0.54\n",
            "Strength: 0.49\n",
            "None: 0.43\n"
          ]
        }
      ]
    },
    {
      "cell_type": "markdown",
      "source": [
        "# User Insights Generation\n",
        "Personalized recommendations are at the heart of user engagement and behavior change. For each user, specific insights are generated based on their individual data:\n",
        "- Poor sleep quality → Suggestions for better sleep hygiene.\n",
        "- Low steps → Encourage more physical activity.\n",
        "- No workout → Recommendations to incorporate exercise into their routine.\n",
        "- Good overall metrics → Positive reinforcement."
      ],
      "metadata": {
        "id": "C4NLXM5JkpKY"
      }
    },
    {
      "cell_type": "code",
      "source": [
        "# Step 3: Generate Insights\n",
        "def generate_insights(data):\n",
        "    \"\"\"Provide actionable insights for each user based on their data.\"\"\"\n",
        "    insights = []\n",
        "    for i in range(num_users):\n",
        "        user = {\n",
        "            \"user_id\": data[\"user_id\"][i],\n",
        "            \"steps\": data[\"steps\"][i],\n",
        "            \"sleep_quality\": data[\"sleep_quality\"][i],\n",
        "            \"performance\": data[\"performance\"][i],\n",
        "            \"workout_type\": data[\"workout_type\"][i],\n",
        "            \"workout_duration\": data[\"workout_duration\"][i]\n",
        "        }\n",
        "\n",
        "        if user[\"sleep_quality\"] < 0.4:\n",
        "            advice = \"Improve your sleep quality by maintaining a consistent sleep schedule.\"\n",
        "        elif user[\"steps\"] < 5000:\n",
        "            advice = \"Increase your daily steps for better performance. Aim for at least 8000 steps.\"\n",
        "        elif user[\"workout_type\"] == \"None\" and user[\"workout_duration\"] == 0:\n",
        "            advice = \"Incorporate regular workouts into your routine for better health outcomes.\"\n",
        "        else:\n",
        "            advice = \"Keep up the good work!\"\n",
        "\n",
        "        insights.append({\"user_id\": user[\"user_id\"], \"advice\": advice})\n",
        "    return insights\n",
        "\n",
        "# Generate insights for users\n",
        "user_insights = generate_insights(data)\n",
        "\n",
        "# Step 4: Display Sample Output\n",
        "print(\"\\nCorrelation between Sleep Quality and Performance:\", correlation_sleep_performance)\n",
        "print(\"Correlation between Steps and Performance:\", correlation_steps_performance)\n",
        "print(\"Correlation between Workout Duration and Performance:\", correlation_workout_performance)\n",
        "\n",
        "print(\"\\nSample Insights for Users:\")\n",
        "for insight in user_insights[:5]:\n",
        "    print(insight)\n"
      ],
      "metadata": {
        "colab": {
          "base_uri": "https://localhost:8080/"
        },
        "id": "SXbgW82BkpuS",
        "outputId": "de9d0076-e8f7-45f6-c8ca-220a115333ab"
      },
      "execution_count": 3,
      "outputs": [
        {
          "output_type": "stream",
          "name": "stdout",
          "text": [
            "\n",
            "Correlation between Sleep Quality and Performance: 0.8250194166643615\n",
            "Correlation between Steps and Performance: 0.4139199851627264\n",
            "Correlation between Workout Duration and Performance: 0.39300844812364616\n",
            "\n",
            "Sample Insights for Users:\n",
            "{'user_id': 'user_1', 'advice': 'Keep up the good work!'}\n",
            "{'user_id': 'user_2', 'advice': 'Increase your daily steps for better performance. Aim for at least 8000 steps.'}\n",
            "{'user_id': 'user_3', 'advice': 'Keep up the good work!'}\n",
            "{'user_id': 'user_4', 'advice': 'Improve your sleep quality by maintaining a consistent sleep schedule.'}\n",
            "{'user_id': 'user_5', 'advice': 'Keep up the good work!'}\n"
          ]
        }
      ]
    },
    {
      "cell_type": "markdown",
      "source": [
        "# Performance Analysis: Key Health Factors and Insights\n",
        "\n",
        "The analysis reveals that sleep quality is the most critical factor influencing performance, with a strong positive correlation of 0.83. Users with better sleep consistently outperform others, making it a key area for targeted improvements. Physical activity, measured through daily steps (correlation: 0.41) and workout duration (correlation: 0.39), also contributes to better performance, albeit to a lesser extent than sleep. Insights show that most users are performing well, but those with low activity levels or poor sleep can significantly enhance their performance by addressing these areas. Encouraging better sleep hygiene and increased physical activity while reinforcing positive habits for high performers ensures a comprehensive approach to improving user outcomes.\n",
        "\n",
        "\n",
        "\n",
        "\n",
        "\n",
        "\n",
        "\n"
      ],
      "metadata": {
        "id": "ynNoMyR_pY3A"
      }
    }
  ]
}